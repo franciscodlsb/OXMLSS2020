{
  "nbformat": 4,
  "nbformat_minor": 0,
  "metadata": {
    "colab": {
      "name": "DL101 part 1-OXML.ipynb",
      "provenance": [],
      "collapsed_sections": [],
      "include_colab_link": true
    },
    "kernelspec": {
      "name": "python3",
      "display_name": "Python 3"
    },
    "accelerator": "GPU"
  },
  "cells": [
    {
      "cell_type": "markdown",
      "metadata": {
        "id": "view-in-github",
        "colab_type": "text"
      },
      "source": [
        "<a href=\"https://colab.research.google.com/github/franciscodlsb/OXMLSS2020/blob/master/DL101_part_1_OXML.ipynb\" target=\"_parent\"><img src=\"https://colab.research.google.com/assets/colab-badge.svg\" alt=\"Open In Colab\"/></a>"
      ]
    },
    {
      "cell_type": "markdown",
      "metadata": {
        "id": "zvbu6-RoTti1",
        "colab_type": "text"
      },
      "source": [
        "# Deep Learning 101 Tutorial for OxML 2020\n",
        "### Prepared by Melvin Selim Atay\n",
        "# Tutorial Objectives: \n",
        "\n",
        "*   Explore the main idea of artificial neural networks, deep feed-forward network\n",
        "*   Get intuition of why it is necessary to build deep neural networks such as loss functions \n",
        "*   Learn and compute gradient descent using automatic differentiation. \n",
        "*   Familiarize with PyTorch.\n",
        "\n",
        "\n",
        "   For convenience we will be using MNIST dataset throuhout this tutorial.\n",
        "\n",
        "\n",
        "\n",
        "\n",
        "\n",
        "\n",
        "\n",
        "\n",
        "\n"
      ]
    },
    {
      "cell_type": "code",
      "metadata": {
        "id": "236YECJSeFFB",
        "colab_type": "code",
        "colab": {}
      },
      "source": [
        "#@title Setting Up Necessary Packages { vertical-output: true, display-mode: \"form\" }\n",
        "import os\n",
        "from __future__ import print_function, division\n",
        "\n",
        "import itertools\n",
        "#import time\n",
        "from time import time\n",
        "import numpy as np \n",
        "\n",
        "# PyTorch packages\n",
        "import torch\n",
        "from torch import nn\n",
        "from torch import optim\n",
        "import torchvision\n",
        "from torchvision import datasets, transforms\n",
        "# Plotting packages\n",
        "\n",
        "import matplotlib.pyplot as plt"
      ],
      "execution_count": null,
      "outputs": []
    },
    {
      "cell_type": "code",
      "metadata": {
        "id": "TClEvnREeUC8",
        "colab_type": "code",
        "cellView": "both",
        "colab": {}
      },
      "source": [
        "#@title Setting torch transform\n",
        "transform = transforms.Compose([transforms.ToTensor(),\n",
        "                              transforms.Normalize((0.5,), (0.5,)),\n",
        "                              ])"
      ],
      "execution_count": null,
      "outputs": []
    },
    {
      "cell_type": "code",
      "metadata": {
        "id": "ZHIEBiyQesK0",
        "colab_type": "code",
        "cellView": "both",
        "colab": {}
      },
      "source": [
        "#@title Load Data (MNIST)\n",
        "from torch.utils.data.sampler import SubsetRandomSampler\n",
        "\n",
        "n_training_samples = 60000 # \n",
        "\n",
        "n_test_samples = 10000\n",
        "\n",
        "train_sampler = SubsetRandomSampler(np.arange(n_training_samples, dtype=np.int64))\n",
        "test_sampler = SubsetRandomSampler(np.arange(n_test_samples, dtype=np.int64))\n",
        "\n",
        "train_set = datasets.MNIST(r'..\\input\\MNIST', download=True, train=True, transform=transform)\n",
        "train_loader = torch.utils.data.DataLoader(train_set, batch_size=64, sampler=train_sampler)\n",
        "\n",
        "test_set = datasets.MNIST(r'..\\input\\MNIST', download=True, train=False, transform=transform)\n",
        "test_loader = torch.utils.data.DataLoader(test_set, batch_size=64, sampler=test_sampler)"
      ],
      "execution_count": null,
      "outputs": []
    },
    {
      "cell_type": "code",
      "metadata": {
        "id": "RUcL3azh3oOY",
        "colab_type": "code",
        "cellView": "both",
        "colab": {}
      },
      "source": [
        "#@title Enabling GPU\n",
        "if torch.cuda.is_available():\n",
        "  # Create tensors\n",
        "  x = torch.ones(1000, 1000)\n",
        "  y = 2 * x + 3\n",
        "  # Do the calculation on cpu (default)\n",
        "  # Matrix multiplication (for benchmark purpose)\n",
        "  results = torch.mm(x, y)\n",
        "  \n",
        "  # Do the same calculation but on the gpu\n",
        "  # First move tensors to gpu\n",
        "  x = x.to(\"cuda\")\n",
        "  y = y.to(\"cuda\")\n",
        "  # Matrix multiplication (for benchmark purpose)\n",
        "  results = torch.mm(x, y)\n",
        "\n",
        "seed = 42\n",
        "np.random.seed(seed)\n",
        "torch.manual_seed(seed)\n",
        "\n",
        "if torch.cuda.is_available():\n",
        "  # Make CuDNN Determinist\n",
        "  torch.backends.cudnn.deterministic = True\n",
        "  torch.cuda.manual_seed(seed)\n",
        "\n",
        "# Define default device, we should use the GPU (cuda) if available\n",
        "device = torch.device(\"cuda\" if torch.cuda.is_available() else \"cpu\")"
      ],
      "execution_count": null,
      "outputs": []
    },
    {
      "cell_type": "markdown",
      "metadata": {
        "id": "KX7dyatJ9b2a",
        "colab_type": "text"
      },
      "source": [
        "### [MNIST Dataset](http://yann.lecun.com/exdb/mnist/) is the dataset of handwritten digits, it has a training set of 60,000 examples and test set of 10,000 examples. \n",
        "![picture](https://upload.wikimedia.org/wikipedia/commons/2/27/MnistExamples.png)\n",
        "##### https://en.wikipedia.org/wiki/MNIST_database#cite_note-10"
      ]
    },
    {
      "cell_type": "code",
      "metadata": {
        "id": "FxSVXi6gkN6-",
        "colab_type": "code",
        "cellView": "form",
        "colab": {
          "base_uri": "https://localhost:8080/",
          "height": 283
        },
        "outputId": "4387650d-45a3-4084-9dda-8b4ee19716f2"
      },
      "source": [
        "#@title Loading and visualizing data\n",
        "dataiter = iter(train_loader) # creating a iterator\n",
        "images, labels = dataiter.next() # creating images for image and lables for image number (0 to 9) \n",
        "\n",
        "print(images.shape)\n",
        "print(labels.shape)\n",
        "\n",
        "figure = plt.figure()\n",
        "num_of_images = 60\n",
        "for index in range(1, num_of_images + 1):\n",
        "    plt.subplot(6, 10, index)\n",
        "    plt.axis('off')\n",
        "    plt.imshow(images[index].numpy().squeeze(), cmap='gray')"
      ],
      "execution_count": null,
      "outputs": [
        {
          "output_type": "stream",
          "text": [
            "torch.Size([64, 1, 28, 28])\n",
            "torch.Size([64])\n"
          ],
          "name": "stdout"
        },
        {
          "output_type": "display_data",
          "data": {
            "image/png": "[encoded data removed]",
            "text/plain": [
              "<Figure size 432x288 with 60 Axes>"
            ]
          },
          "metadata": {
            "tags": [],
            "needs_background": "light"
          }
        }
      ]
    },
    {
      "cell_type": "markdown",
      "metadata": {
        "id": "X1G0DgUkehD9",
        "colab_type": "text"
      },
      "source": [
        "\n",
        "# Deep artificial neural network implementation using *pytorch* \n",
        "\n",
        "We are building a feed forward neural network with two hidden layers.\n",
        "\n",
        "\n",
        "Let $\\mathbf{p}^{(n)} = \\begin{bmatrix} p_1^{(n)} & p_2^{(n)} & \\ldots & p_N^{(n)} \\end{bmatrix}^T$ are pixel values of the input image of numbers. Here input image is 28x28 so we have 784 pixel values as an input per image in MNIST dataset.  The network we will use is described by the following set of equations:\n",
        "\\begin{align}\n",
        "    \\mathbf{A}^{(0)} &= \\mathbf{W}^{in} \\mathbf{p}^{(n)} + \\mathbf{b}^{in}, && [\\mathbf{W}^{in}: M \\times N], M = 784, N = 256\\\\\n",
        "    \\mathbf{A}^{(1)} &= \\mathbf{W}^{(h_1)} \\mathbf{A}^{(0)} + \\mathbf{b}^{(h_1)},  && [\\mathbf{W}^{(h_1)}: N \\times R], N = 256, R = 128 \\\\\n",
        "    \\mathbf{A}^{(2)} &= \\mathbf{W}^{(h_2)} \\mathbf{A}^{(1)} + \\mathbf{b}^{(h_2)},  && [\\mathbf{W}^{(h_2)}: R \\times S], R = 128, S = 64 \\\\\n",
        "   y^{(n)} &= \\mathbf{W}^{out} \\mathbf{A}^{(2)} + \\mathbf{b}^{out},  && [\\mathbf{W}^{out}: 10 \\times S], \n",
        "\\end{align}\n",
        "where $y^{(n)}$ denotes the output of the network \n",
        "\n",
        "\n",
        "The $M$-dimensional vectors $\\mathbf{A}^{(1)}$ and $\\mathbf{A}^{(2)}$    denotes the activations of the **hidden layers** of the network. \n",
        "\n",
        "\n",
        "Parameters of the network are consists of the weights and biases $\\mathbf{W}^{in}, \\mathbf{b}^{in}, \\mathbf{W}^{(h_1)}, \\mathbf{b}^{(h_1)}, \\mathbf{W}^{(h_2)}, \\mathbf{b}^{(h_2)}, \\mathbf{W}^{out}, \\mathbf{b}^{out}$.\n",
        "\n",
        " Parameters of the network will be optimized by gradient descent.\n",
        "\n"
      ]
    },
    {
      "cell_type": "markdown",
      "metadata": {
        "id": "0WoKmKRdMoCR",
        "colab_type": "text"
      },
      "source": [
        "![picture](https://i-am-mel-dev.github.io/images/ann.png)"
      ]
    },
    {
      "cell_type": "markdown",
      "metadata": {
        "id": "REsJDTsVHoia",
        "colab_type": "text"
      },
      "source": [
        "If we do not add any activation functions,  that the deep network we constructed above comprises solely **linear** operations on each layer: each layer is just a weighted sum of the elements in the previous layer. It turns out that linear hidden layers like this are not particularly useful, since a sequence of linear transformations is actually essentially the same as a single linear transformation. \n",
        "In other words, the output is still just a weighted sum of elements in the input -- the hidden layer has done nothing to change this.\n",
        "\n",
        "To extend the set of computable input/output transformations to more than just weighted sums, we'll incorporate a **non-linear activation function** in the hidden units. This is done by simply modifying the equation for the hidden layer activations to be\n",
        "\\begin{equation}\n",
        "    \\mathbf{h}^{(n)} = \\phi(\\mathbf{W}^{in} \\mathbf{r}^{(n)} + \\mathbf{b}^{in})\n",
        "\\end{equation}\n",
        "where $\\phi$ is referred to as the activation function. Using a non-linear activation function will ensure that the hidden layer performs a non-linear transformation of the input, which will make our network much more powerful. In practice, deep networks *always* use non-linear activation functions.\n"
      ]
    },
    {
      "cell_type": "markdown",
      "metadata": {
        "id": "cQLeBn6Rqkzj",
        "colab_type": "text"
      },
      "source": [
        "**Re**ctified **L**inear **U**nits\", or **ReLU**'s\n",
        "\\begin{equation}\n",
        "  \\phi(x) = \n",
        "  \\begin{cases}\n",
        "    x & \\text{if } x > 0 \\\\\n",
        "    0 & \\text{else}\n",
        "  \\end{cases}\n",
        "\\end{equation}\n",
        "\n"
      ]
    },
    {
      "cell_type": "markdown",
      "metadata": {
        "id": "92TvpMeG1wTm",
        "colab_type": "text"
      },
      "source": [
        "## There are three ways of implementing neural networks in PyTorch:\n",
        "\n",
        "    nn.Module\n",
        "    nn.Sequential\n",
        "    nn.ModuleList"
      ]
    },
    {
      "cell_type": "markdown",
      "metadata": {
        "id": "Of52TaLk16mp",
        "colab_type": "text"
      },
      "source": [
        "### `nn.Module`"
      ]
    },
    {
      "cell_type": "code",
      "metadata": {
        "id": "0zkrAn0yyoxZ",
        "colab_type": "code",
        "colab": {}
      },
      "source": [
        "class NeuralNetwork(nn.Module):\n",
        "    def __init__(self, n_inputs, n_unit1, n_unit2, n_unit3, n_output):\n",
        "        super().__init__()\n",
        "        \n",
        "        # Inputs to 1st hidden layer linear transformation \n",
        "        self.hidden1 = nn.Linear(n_inputs, n_unit1) # 1 layer:- input numbers, hidden unit numbers \n",
        "        \n",
        "        self.relu = nn.ReLU() # Defining Rectified linear unit as activation\n",
        "\n",
        "        self.hidden2 =  nn.Linear(n_unit1, n_unit2) #2 layer:- hidden layer \n",
        "        \n",
        "        self.tanh = nn.Tanh()\n",
        "        self.hidden3 =  nn.Linear(n_unit2, n_unit3) #3 layer:- hidden layer \n",
        "        \n",
        "        self.tanh2 = nn.Tanh()\n",
        "\n",
        "        # Output layer \n",
        "        self.output = nn.Linear(n_unit3, n_output) # output layer\n",
        "        self.softmax = nn.LogSoftmax(dim=1) # softmax\n",
        "\n",
        "        \n",
        "    def forward(self, x):\n",
        "        x = self.hidden1(x) \n",
        "        x = self.relu(x)\n",
        "        x = self.hidden2(x)\n",
        "        x = self.tanh2(x)\n",
        "        x = self.hidden3(x)\n",
        "        x = self.tanh2(x)\n",
        "        x = self.output(x)\n",
        "        x = self.softmax(x)\n",
        "        \n",
        "        return x"
      ],
      "execution_count": null,
      "outputs": []
    },
    {
      "cell_type": "code",
      "metadata": {
        "id": "yOlCmZZKy2c3",
        "colab_type": "code",
        "colab": {
          "base_uri": "https://localhost:8080/",
          "height": 202
        },
        "outputId": "b8f266db-5a3a-4c4e-eb87-329b7f670c03"
      },
      "source": [
        "model = NeuralNetwork(n_inputs=784, n_unit1=256, n_unit2=128, n_unit3= 64, n_output=10)\n",
        "model"
      ],
      "execution_count": null,
      "outputs": [
        {
          "output_type": "execute_result",
          "data": {
            "text/plain": [
              "NeuralNetwork(\n",
              "  (hidden1): Linear(in_features=784, out_features=256, bias=True)\n",
              "  (relu): ReLU()\n",
              "  (hidden2): Linear(in_features=256, out_features=128, bias=True)\n",
              "  (tanh): Tanh()\n",
              "  (hidden3): Linear(in_features=128, out_features=64, bias=True)\n",
              "  (tanh2): Tanh()\n",
              "  (output): Linear(in_features=64, out_features=10, bias=True)\n",
              "  (softmax): LogSoftmax(dim=1)\n",
              ")"
            ]
          },
          "metadata": {
            "tags": []
          },
          "execution_count": 27
        }
      ]
    },
    {
      "cell_type": "markdown",
      "metadata": {
        "id": "tGrLkNy72dk7",
        "colab_type": "text"
      },
      "source": [
        "### `nn.ModuleList`"
      ]
    },
    {
      "cell_type": "code",
      "metadata": {
        "id": "44PjCD9q2jO6",
        "colab_type": "code",
        "colab": {}
      },
      "source": [
        "class NeuralNetwork(nn.Module):\n",
        "    def __init__(self, n_inputs, n_unit1, n_unit2, n_unit3, n_output):\n",
        "        super().__init__()\n",
        "        l1 = nn.Linear(n_inputs, n_unit1)\n",
        "        a1 = nn.ReLU()\n",
        "        l2 = nn.Linear(n_unit1, n_unit2)\n",
        "        a2 = nn.Tanh()\n",
        "        l3 = nn.Linear(n_unit2, n_unit3)\n",
        "        a3 = nn.Tanh()\n",
        "        l4 = nn.Linear(n_unit3, n_output)\n",
        "        s = nn.LogSoftmax(dim=1)\n",
        "        \n",
        "        l = [l1, a1, l2, a2, l3, a3, l4, s]\n",
        "        self.module_list = nn.ModuleList(l)\n",
        "\n",
        "    def forward(self, x):\n",
        "        for f in self.module_list:\n",
        "            x = f(x)\n",
        "        return x"
      ],
      "execution_count": null,
      "outputs": []
    },
    {
      "cell_type": "code",
      "metadata": {
        "id": "3jZ-3Jmi25py",
        "colab_type": "code",
        "colab": {
          "base_uri": "https://localhost:8080/",
          "height": 239
        },
        "outputId": "4d315480-1930-4de0-f5cf-5d0bbe048a52"
      },
      "source": [
        "model = NeuralNetwork(n_inputs=784, n_unit1=256, n_unit2= 128, n_unit3 = 64, n_output=10)\n",
        "model"
      ],
      "execution_count": null,
      "outputs": [
        {
          "output_type": "execute_result",
          "data": {
            "text/plain": [
              "NeuralNetwork(\n",
              "  (module_list): ModuleList(\n",
              "    (0): Linear(in_features=784, out_features=256, bias=True)\n",
              "    (1): ReLU()\n",
              "    (2): Linear(in_features=256, out_features=128, bias=True)\n",
              "    (3): Tanh()\n",
              "    (4): Linear(in_features=128, out_features=64, bias=True)\n",
              "    (5): Tanh()\n",
              "    (6): Linear(in_features=64, out_features=10, bias=True)\n",
              "    (7): LogSoftmax(dim=1)\n",
              "  )\n",
              ")"
            ]
          },
          "metadata": {
            "tags": []
          },
          "execution_count": 29
        }
      ]
    },
    {
      "cell_type": "markdown",
      "metadata": {
        "id": "lXkQ0flw2UGy",
        "colab_type": "text"
      },
      "source": [
        "### `nn.Sequential`"
      ]
    },
    {
      "cell_type": "code",
      "metadata": {
        "id": "lr9a_HotkOKX",
        "colab_type": "code",
        "colab": {
          "base_uri": "https://localhost:8080/",
          "height": 202
        },
        "outputId": "6674139f-671b-495c-c73b-7d1d2eb1ae33"
      },
      "source": [
        "# Model creation with neural net Sequential model\n",
        "model=nn.Sequential(nn.Linear(784,256), # 1 Layer:- 784 input 256 output\n",
        "                    nn.ReLU(),          \n",
        "                    nn.Linear(256,128),  # 2 Layer:- 256 Input and 128 output\n",
        "                    nn.Tanh(),\n",
        "                    nn.Linear(128,64),  # 3 Layer:- 128 Input and 64 output\n",
        "                    nn.Tanh(),           \n",
        "                    nn.Linear(64,10),   # 3 Layer:- 64 Input and 10 output\n",
        "                    nn.LogSoftmax(dim=1) # Defining the softmax to find the probablities for the last output \n",
        "                  ) \n",
        "\n",
        "print(model)"
      ],
      "execution_count": null,
      "outputs": [
        {
          "output_type": "stream",
          "text": [
            "Sequential(\n",
            "  (0): Linear(in_features=784, out_features=256, bias=True)\n",
            "  (1): ReLU()\n",
            "  (2): Linear(in_features=256, out_features=128, bias=True)\n",
            "  (3): Tanh()\n",
            "  (4): Linear(in_features=128, out_features=64, bias=True)\n",
            "  (5): Tanh()\n",
            "  (6): Linear(in_features=64, out_features=10, bias=True)\n",
            "  (7): LogSoftmax(dim=1)\n",
            ")\n"
          ],
          "name": "stdout"
        }
      ]
    },
    {
      "cell_type": "markdown",
      "metadata": {
        "id": "9L9qE7ysKkaT",
        "colab_type": "text"
      },
      "source": [
        "We are using negative log likelihood loss and log softmax for classification task. \n",
        "\n",
        "![picture](https://miro.medium.com/max/700/1*z5zL8kz7TPW1y3okAjuvBA.jpeg)\n",
        "\n",
        "These functions are also implemented in  `torch.nn.CrossEntropyLoss`"
      ]
    },
    {
      "cell_type": "code",
      "metadata": {
        "id": "uWDnz2cNk3Kj",
        "colab_type": "code",
        "colab": {}
      },
      "source": [
        "# defining the negative log-likelihood loss for calculating loss\n",
        "criterion = nn.NLLLoss() "
      ],
      "execution_count": null,
      "outputs": []
    },
    {
      "cell_type": "code",
      "metadata": {
        "id": "4auHibsfk8Vg",
        "colab_type": "code",
        "colab": {}
      },
      "source": [
        "images, labels = next(iter(train_loader))\n",
        "images = images.view(images.shape[0], -1)\n",
        "\n",
        "logps = model(images) #log probabilities\n",
        "loss = criterion(logps, labels) #calculate the NLL-loss"
      ],
      "execution_count": null,
      "outputs": []
    },
    {
      "cell_type": "markdown",
      "metadata": {
        "id": "yU7Rn815LElW",
        "colab_type": "text"
      },
      "source": [
        "We are using stochastic gradient descent for optimization.\n",
        "Mathematically, Gradient Descent is a convex function whose output is the partial derivative of a set of parameters of its inputs. The greater the gradient, the steeper the slope.\n",
        "\n",
        "Starting from an initial value, Gradient Descent is run iteratively to find the optimal values of the parameters to find the minimum possible value of the given cost function.\n",
        "\n",
        "The word ‘stochastic‘ means a system or a process that is linked with a random probability. Hence, in Stochastic Gradient Descent, a few samples are selected randomly instead of the whole data set for each iteration. \n",
        "\n",
        "![picture](https://www.oreilly.com/library/view/statistics-for-machine/9781788295758/assets/0e39e950-dd75-4c2f-a4ea-aa1ccd1eb8ca.png)"
      ]
    },
    {
      "cell_type": "code",
      "metadata": {
        "id": "9ug25i3clChr",
        "colab_type": "code",
        "colab": {
          "base_uri": "https://localhost:8080/",
          "height": 424
        },
        "outputId": "abd93cb1-5009-4339-c843-1edf7466f115"
      },
      "source": [
        "# defining the optimiser with stochastic gradient descent and default parameters\n",
        "optimizer = optim.SGD(model.parameters(), lr=0.01, momentum=0.9)\n",
        "\n",
        "print('Initial weights - ', model[0].weight)\n",
        "\n",
        "images, labels = next(iter(train_loader))\n",
        "images.resize_(64, 784)\n",
        "\n",
        "# Clear the gradients, do this because gradients are accumulated\n",
        "optimizer.zero_grad()\n",
        "\n",
        "# Forward pass\n",
        "output = model(images)\n",
        "loss = criterion(output, labels)\n",
        "# the backward pass and update weights\n",
        "loss.backward()\n",
        "print('Gradient -', model[0].weight.grad)"
      ],
      "execution_count": null,
      "outputs": [
        {
          "output_type": "stream",
          "text": [
            "Initial weights -  Parameter containing:\n",
            "tensor([[-0.0240,  0.0208,  0.0216,  ...,  0.0251,  0.0122, -0.0042],\n",
            "        [-0.0312, -0.0232,  0.0135,  ..., -0.0259,  0.0095,  0.0138],\n",
            "        [-0.0053,  0.0070,  0.0048,  ...,  0.0130,  0.0272, -0.0255],\n",
            "        ...,\n",
            "        [ 0.0095,  0.0114, -0.0169,  ...,  0.0269,  0.0131, -0.0071],\n",
            "        [-0.0088, -0.0345, -0.0297,  ..., -0.0250,  0.0278,  0.0110],\n",
            "        [-0.0046,  0.0034,  0.0346,  ..., -0.0338,  0.0230, -0.0308]],\n",
            "       requires_grad=True)\n",
            "Gradient - tensor([[-6.9222e-05, -6.9222e-05, -6.9222e-05,  ..., -6.9222e-05,\n",
            "         -6.9222e-05, -6.9222e-05],\n",
            "        [ 7.1292e-04,  7.1292e-04,  7.1292e-04,  ...,  7.1292e-04,\n",
            "          7.1292e-04,  7.1292e-04],\n",
            "        [-7.4909e-04, -7.4909e-04, -7.4909e-04,  ..., -7.4909e-04,\n",
            "         -7.4909e-04, -7.4909e-04],\n",
            "        ...,\n",
            "        [-4.3261e-04, -4.3261e-04, -4.3261e-04,  ..., -4.3261e-04,\n",
            "         -4.3261e-04, -4.3261e-04],\n",
            "        [ 2.4486e-04,  2.4486e-04,  2.4486e-04,  ...,  2.4486e-04,\n",
            "          2.4486e-04,  2.4486e-04],\n",
            "        [ 0.0000e+00,  0.0000e+00,  0.0000e+00,  ...,  0.0000e+00,\n",
            "          0.0000e+00,  0.0000e+00]])\n"
          ],
          "name": "stdout"
        }
      ]
    },
    {
      "cell_type": "code",
      "metadata": {
        "id": "nM2dLK8ylHnk",
        "colab_type": "code",
        "colab": {
          "base_uri": "https://localhost:8080/",
          "height": 424
        },
        "outputId": "81037379-f08a-4550-8753-c27057f58f5c"
      },
      "source": [
        "time0 = time()\n",
        "epochs = 20 # total number of iteration for training\n",
        "running_loss_list= []\n",
        "epochs_list = []\n",
        "\n",
        "for e in range(epochs):\n",
        "    running_loss = 0\n",
        "    for images, labels in train_loader:\n",
        "        # Flatenning MNIST images with size [64,784]\n",
        "        images = images.view(images.shape[0], -1) \n",
        "    \n",
        "        # defining gradient in each epoch as 0\n",
        "        optimizer.zero_grad()\n",
        "        \n",
        "        # modeling for each image batch\n",
        "        output = model(images)\n",
        "        \n",
        "        # calculating the loss\n",
        "        loss = criterion(output, labels)\n",
        "        \n",
        "        # This is where the model learns by backpropagating\n",
        "        loss.backward()\n",
        "        \n",
        "        # And optimizes its weights here\n",
        "        optimizer.step()\n",
        "        \n",
        "        # calculating the loss\n",
        "        running_loss += loss.item()\n",
        "        \n",
        "    else:\n",
        "        print(\"Epoch {} - Training loss: {}\".format(e, running_loss/len(train_loader)))\n",
        "print(\"\\nTraining Time (in minutes) =\",(time()-time0)/60)"
      ],
      "execution_count": null,
      "outputs": [
        {
          "output_type": "stream",
          "text": [
            "Epoch 0 - Training loss: 0.4466558409008835\n",
            "Epoch 1 - Training loss: 0.16354922025696808\n",
            "Epoch 2 - Training loss: 0.11872489901501805\n",
            "Epoch 3 - Training loss: 0.09050703096463641\n",
            "Epoch 4 - Training loss: 0.07419387554414253\n",
            "Epoch 5 - Training loss: 0.0645542273410598\n",
            "Epoch 6 - Training loss: 0.055938178674255344\n",
            "Epoch 7 - Training loss: 0.04741653123610357\n",
            "Epoch 8 - Training loss: 0.04025967942135258\n",
            "Epoch 9 - Training loss: 0.0359757254201758\n",
            "Epoch 10 - Training loss: 0.03156802225557626\n",
            "Epoch 11 - Training loss: 0.02620987076606941\n",
            "Epoch 12 - Training loss: 0.022084646030087897\n",
            "Epoch 13 - Training loss: 0.018982726537787827\n",
            "Epoch 14 - Training loss: 0.01635531298944658\n",
            "Epoch 15 - Training loss: 0.014724115621850097\n",
            "Epoch 16 - Training loss: 0.011598301877422548\n",
            "Epoch 17 - Training loss: 0.015730660112313694\n",
            "Epoch 18 - Training loss: 0.009772086125975505\n",
            "Epoch 19 - Training loss: 0.008518094640423251\n",
            "\n",
            "Training Time (in minutes) = 5.575639847914378\n"
          ],
          "name": "stdout"
        }
      ]
    },
    {
      "cell_type": "code",
      "metadata": {
        "id": "vtlZclyflbVa",
        "colab_type": "code",
        "cellView": "form",
        "colab": {}
      },
      "source": [
        "#@title Classification predictions plot\n",
        "def classify(img, ps):\n",
        "    ''' \n",
        "    Function for viewing an image and it's predicted classes.\n",
        "    '''\n",
        "    ps = ps.data.numpy().squeeze()\n",
        "\n",
        "    fig, (ax1, ax2) = plt.subplots(figsize=(6,9), ncols=2)\n",
        "    ax1.imshow(img.resize_(1, 28, 28).numpy().squeeze())\n",
        "    ax1.axis('off')\n",
        "    ax2.barh(np.arange(10), ps)\n",
        "    ax2.set_aspect(0.1)\n",
        "    ax2.set_yticks(np.arange(10))\n",
        "    ax2.set_yticklabels(np.arange(10))\n",
        "    ax2.set_title('Class Probability')\n",
        "    ax2.set_xlim(0, 1.1)\n",
        "    plt.tight_layout()"
      ],
      "execution_count": null,
      "outputs": []
    },
    {
      "cell_type": "markdown",
      "metadata": {
        "id": "I2It5Ms8OUIo",
        "colab_type": "text"
      },
      "source": [
        "### Predictions: \n",
        "Predictions below shows the output of log probabilities and predicted class of any random image from test set."
      ]
    },
    {
      "cell_type": "code",
      "metadata": {
        "id": "fSwxYcbVlpFY",
        "colab_type": "code",
        "colab": {
          "base_uri": "https://localhost:8080/",
          "height": 271
        },
        "outputId": "2f180778-5807-4807-8220-af5e7522fb40"
      },
      "source": [
        "images, labels = next(iter(test_loader))\n",
        "# replace trainloader to check training accuracy.\n",
        "\n",
        "img = images[0].view(1, 784)\n",
        "# Turn off gradients to speed up this part\n",
        "with torch.no_grad():\n",
        "    logpb = model(img)\n",
        "\n",
        "# Output of the network are log-probabilities, need to take exponential for probabilities\n",
        "pb = torch.exp(logpb)\n",
        "probab = list(pb.numpy()[0])\n",
        "print(\"Predicted Digit =\", probab.index(max(probab)))\n",
        "classify(img.view(1, 28, 28), pb)"
      ],
      "execution_count": null,
      "outputs": [
        {
          "output_type": "stream",
          "text": [
            "Predicted Digit = 5\n"
          ],
          "name": "stdout"
        },
        {
          "output_type": "display_data",
          "data": {
            "image/png": "[encoded data removed]",
            "text/plain": [
              "<Figure size 432x648 with 2 Axes>"
            ]
          },
          "metadata": {
            "tags": [],
            "needs_background": "light"
          }
        }
      ]
    },
    {
      "cell_type": "markdown",
      "metadata": {
        "id": "dwSWM-UQOiTm",
        "colab_type": "text"
      },
      "source": [
        "### Testing and test results: \n",
        "Finally we are calculating testing accuracy of our neural network."
      ]
    },
    {
      "cell_type": "code",
      "metadata": {
        "id": "pmp9Vtjelt3b",
        "colab_type": "code",
        "colab": {
          "base_uri": "https://localhost:8080/",
          "height": 72
        },
        "outputId": "c2a9b186-40aa-4819-905f-1fbf5f1e5936"
      },
      "source": [
        "correct_count, all_count = 0, 0\n",
        "for images,labels in test_loader:\n",
        "  for i in range(len(labels)):\n",
        "    img = images[i].view(1, 784)\n",
        "\n",
        "    with torch.no_grad():\n",
        "        logps = model(img)\n",
        "\n",
        "    ps = torch.exp(logps)\n",
        "    probab = list(ps.numpy()[0])\n",
        "    pred_label = probab.index(max(probab))\n",
        "    true_label = labels.numpy()[i]\n",
        "    if(true_label == pred_label):\n",
        "      correct_count += 1\n",
        "    all_count += 1\n",
        "\n",
        "print(\"Number Of Images Tested =\", all_count)\n",
        "print(\"\\nModel Accuracy =\", (correct_count/all_count))\n",
        "    "
      ],
      "execution_count": null,
      "outputs": [
        {
          "output_type": "stream",
          "text": [
            "Number Of Images Tested = 10000\n",
            "\n",
            "Model Accuracy = 0.9813\n"
          ],
          "name": "stdout"
        }
      ]
    },
    {
      "cell_type": "markdown",
      "metadata": {
        "id": "O46rkID8Oml8",
        "colab_type": "text"
      },
      "source": [
        "### How to save a model:"
      ]
    },
    {
      "cell_type": "code",
      "metadata": {
        "id": "rIrFDkM2lztL",
        "colab_type": "code",
        "colab": {}
      },
      "source": [
        "torch.save(model, 'nn_model_mnist.pth') # .pt or .pth extension"
      ],
      "execution_count": null,
      "outputs": []
    },
    {
      "cell_type": "markdown",
      "metadata": {
        "id": "JAK0hFE8IN2H",
        "colab_type": "text"
      },
      "source": [
        "Adapted from Neuromatch [DL Tutorial](https://github.com/NeuromatchAcademy/course-content/tree/master/tutorials/W3D4_DeepLearning1), [h1ros](h1ros.github.io) and [pytorch](https://colab.research.google.com/drive/1B5KQvPySqYEa6XicRHdOwgv8fN1BrCgQ)"
      ]
    }
  ]
}